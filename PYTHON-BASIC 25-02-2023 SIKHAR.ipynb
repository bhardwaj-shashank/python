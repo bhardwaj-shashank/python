{
 "cells": [
  {
   "cell_type": "code",
   "execution_count": 3,
   "id": "0c56be4b",
   "metadata": {},
   "outputs": [
    {
     "name": "stdout",
     "output_type": "stream",
     "text": [
      "HELLO WORLD\n"
     ]
    }
   ],
   "source": [
    "print('HELLO WORLD')"
   ]
  },
  {
   "cell_type": "code",
   "execution_count": 7,
   "id": "ea108693",
   "metadata": {},
   "outputs": [
    {
     "name": "stdout",
     "output_type": "stream",
     "text": [
      "3\n"
     ]
    }
   ],
   "source": [
    "_a=3\n",
    "print (_a)"
   ]
  },
  {
   "cell_type": "code",
   "execution_count": 9,
   "id": "ec8fff0f",
   "metadata": {},
   "outputs": [
    {
     "data": {
      "text/plain": [
       "10.0"
      ]
     },
     "execution_count": 9,
     "metadata": {},
     "output_type": "execute_result"
    }
   ],
   "source": [
    "num=10\n",
    "type(num)\n",
    "float(num)"
   ]
  },
  {
   "cell_type": "code",
   "execution_count": 14,
   "id": "b82466e3",
   "metadata": {},
   "outputs": [
    {
     "name": "stdout",
     "output_type": "stream",
     "text": [
      "my name sb\n"
     ]
    }
   ],
   "source": [
    "str1='my name sb'\n",
    "str2='shashank'\n",
    "print(str1)"
   ]
  },
  {
   "cell_type": "code",
   "execution_count": 23,
   "id": "50975ab2",
   "metadata": {},
   "outputs": [
    {
     "data": {
      "text/plain": [
       "1"
      ]
     },
     "execution_count": 23,
     "metadata": {},
     "output_type": "execute_result"
    }
   ],
   "source": [
    "str1.count('a')"
   ]
  },
  {
   "cell_type": "code",
   "execution_count": 24,
   "id": "d183c5b4",
   "metadata": {},
   "outputs": [
    {
     "data": {
      "text/plain": [
       "8"
      ]
     },
     "execution_count": 24,
     "metadata": {},
     "output_type": "execute_result"
    }
   ],
   "source": [
    "str1.find('sb')"
   ]
  },
  {
   "cell_type": "markdown",
   "id": "b7abb92c",
   "metadata": {},
   "source": [
    "# indexing slicing"
   ]
  },
  {
   "cell_type": "code",
   "execution_count": 8,
   "id": "533cd98e",
   "metadata": {},
   "outputs": [],
   "source": [
    "text = 'python program'"
   ]
  },
  {
   "cell_type": "code",
   "execution_count": 12,
   "id": "18cff12f",
   "metadata": {},
   "outputs": [
    {
     "data": {
      "text/plain": [
       "'th'"
      ]
     },
     "execution_count": 12,
     "metadata": {},
     "output_type": "execute_result"
    }
   ],
   "source": [
    "text[2:4]"
   ]
  },
  {
   "cell_type": "code",
   "execution_count": 1,
   "id": "37cdd963",
   "metadata": {},
   "outputs": [],
   "source": [
    "text1 = 'program'"
   ]
  },
  {
   "cell_type": "code",
   "execution_count": 18,
   "id": "4ff868a9",
   "metadata": {},
   "outputs": [
    {
     "data": {
      "text/plain": [
       "'por'"
      ]
     },
     "execution_count": 18,
     "metadata": {},
     "output_type": "execute_result"
    }
   ],
   "source": [
    "text1[0:5:2]"
   ]
  },
  {
   "cell_type": "code",
   "execution_count": 4,
   "id": "e095353f",
   "metadata": {},
   "outputs": [
    {
     "data": {
      "text/plain": [
       "'rog'"
      ]
     },
     "execution_count": 4,
     "metadata": {},
     "output_type": "execute_result"
    }
   ],
   "source": [
    "text1[1:4:1]"
   ]
  },
  {
   "cell_type": "code",
   "execution_count": 19,
   "id": "fffaf8a0",
   "metadata": {},
   "outputs": [],
   "source": [
    "numbers = [10,20,30,40,50,80]"
   ]
  },
  {
   "cell_type": "code",
   "execution_count": 21,
   "id": "d7168993",
   "metadata": {},
   "outputs": [],
   "source": [
    "numbers[3] = 4000"
   ]
  },
  {
   "cell_type": "code",
   "execution_count": 24,
   "id": "1e629cb5",
   "metadata": {},
   "outputs": [
    {
     "data": {
      "text/plain": [
       "[10, 20, 30, 4000, 50, 80, 90]"
      ]
     },
     "execution_count": 24,
     "metadata": {},
     "output_type": "execute_result"
    }
   ],
   "source": [
    "numbers"
   ]
  },
  {
   "cell_type": "code",
   "execution_count": 23,
   "id": "a80a0ca9",
   "metadata": {},
   "outputs": [],
   "source": [
    "numbers.append(90)"
   ]
  },
  {
   "cell_type": "code",
   "execution_count": 25,
   "id": "d168a63d",
   "metadata": {},
   "outputs": [],
   "source": [
    "numbers.insert(2,[55,66])"
   ]
  },
  {
   "cell_type": "code",
   "execution_count": 26,
   "id": "47ca0ee3",
   "metadata": {},
   "outputs": [
    {
     "data": {
      "text/plain": [
       "[10, 20, [55, 66], 30, 4000, 50, 80, 90]"
      ]
     },
     "execution_count": 26,
     "metadata": {},
     "output_type": "execute_result"
    }
   ],
   "source": [
    "numbers"
   ]
  },
  {
   "cell_type": "code",
   "execution_count": 29,
   "id": "f8584e94",
   "metadata": {},
   "outputs": [
    {
     "data": {
      "text/plain": [
       "[55, 66]"
      ]
     },
     "execution_count": 29,
     "metadata": {},
     "output_type": "execute_result"
    }
   ],
   "source": [
    "numbers[2]"
   ]
  },
  {
   "cell_type": "markdown",
   "id": "f6cb6084",
   "metadata": {},
   "source": [
    "# TUPLES "
   ]
  },
  {
   "cell_type": "code",
   "execution_count": null,
   "id": "daaa70b7",
   "metadata": {},
   "outputs": [],
   "source": []
  }
 ],
 "metadata": {
  "kernelspec": {
   "display_name": "Python 3 (ipykernel)",
   "language": "python",
   "name": "python3"
  },
  "language_info": {
   "codemirror_mode": {
    "name": "ipython",
    "version": 3
   },
   "file_extension": ".py",
   "mimetype": "text/x-python",
   "name": "python",
   "nbconvert_exporter": "python",
   "pygments_lexer": "ipython3",
   "version": "3.10.9"
  }
 },
 "nbformat": 4,
 "nbformat_minor": 5
}
